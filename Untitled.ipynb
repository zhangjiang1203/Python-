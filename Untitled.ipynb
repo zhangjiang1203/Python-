{
 "cells": [
  {
   "cell_type": "code",
   "execution_count": 1,
   "metadata": {},
   "outputs": [
    {
     "name": "stdout",
     "output_type": "stream",
     "text": [
      "你好，python\n"
     ]
    }
   ],
   "source": [
    "%run test1.py"
   ]
  },
  {
   "cell_type": "code",
   "execution_count": 2,
   "metadata": {
    "collapsed": true
   },
   "outputs": [],
   "source": [
    "# print(value, ..., sep=' ', end='\\n', file=sys.stdout, flush=False)\n",
    "print?"
   ]
  },
  {
   "cell_type": "code",
   "execution_count": 4,
   "metadata": {},
   "outputs": [
    {
     "name": "stdout",
     "output_type": "stream",
     "text": [
      "zhang\n",
      "jiang]"
     ]
    }
   ],
   "source": [
    "print('zhang','jiang' ,sep='\\n' ,end=']')"
   ]
  },
  {
   "cell_type": "code",
   "execution_count": 6,
   "metadata": {},
   "outputs": [
    {
     "name": "stdout",
     "output_type": "stream",
     "text": [
      " python\n",
      " python\n"
     ]
    }
   ],
   "source": [
    "language = ' python'\n",
    "print(language)\n",
    "print(language.rstrip())"
   ]
  },
  {
   "cell_type": "code",
   "execution_count": 32,
   "metadata": {},
   "outputs": [],
   "source": [
    "import numpy as np\n",
    "# array(object, dtype=None, copy=True, order='K', subok=False, ndmin=0)\n",
    "# np.array?\n",
    "\n",
    "# arange([start,] stop[, step,], dtype=None)\n",
    "# np.arange?"
   ]
  }
 ],
 "metadata": {
  "kernelspec": {
   "display_name": "Python 3",
   "language": "python",
   "name": "python3"
  },
  "language_info": {
   "codemirror_mode": {
    "name": "ipython",
    "version": 3
   },
   "file_extension": ".py",
   "mimetype": "text/x-python",
   "name": "python",
   "nbconvert_exporter": "python",
   "pygments_lexer": "ipython3",
   "version": "3.6.3"
  }
 },
 "nbformat": 4,
 "nbformat_minor": 2
}
